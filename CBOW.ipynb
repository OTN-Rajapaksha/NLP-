{
  "nbformat": 4,
  "nbformat_minor": 0,
  "metadata": {
    "colab": {
      "provenance": [],
      "authorship_tag": "ABX9TyMdbKvbUoxAn+XgpkRL8YM3",
      "include_colab_link": true
    },
    "kernelspec": {
      "name": "python3",
      "display_name": "Python 3"
    },
    "language_info": {
      "name": "python"
    }
  },
  "cells": [
    {
      "cell_type": "markdown",
      "metadata": {
        "id": "view-in-github",
        "colab_type": "text"
      },
      "source": [
        "<a href=\"https://colab.research.google.com/github/OTN-Rajapaksha/NLP-/blob/main/CBOW.ipynb\" target=\"_parent\"><img src=\"https://colab.research.google.com/assets/colab-badge.svg\" alt=\"Open In Colab\"/></a>"
      ]
    },
    {
      "cell_type": "code",
      "execution_count": 2,
      "metadata": {
        "colab": {
          "base_uri": "https://localhost:8080/"
        },
        "id": "B20YVMwVM11i",
        "outputId": "e8f72ab5-76b6-44e6-ca78-58384a235160"
      },
      "outputs": [
        {
          "output_type": "stream",
          "name": "stdout",
          "text": [
            "[[0.27950744 0.78807576]\n",
            " [0.79656224 0.76959467]\n",
            " [0.61748941 0.70743541]\n",
            " [0.2395397  0.28735971]\n",
            " [0.93773013 0.56336838]]\n"
          ]
        }
      ],
      "source": [
        "import numpy as np\n",
        "\n",
        "#1 Define your vacabulary\n",
        "\n",
        "vacab = [\"the\",\"cat\",\"sits\",\"on\",\"mat\"]\n",
        "\n",
        "vacab_size=len(vacab)\n",
        "\n",
        "embedding_dim = 2\n",
        "\n",
        "#3 random initialize the embedding matrix\n",
        "\n",
        "embedding_matrix=np.random.rand(vacab_size,embedding_dim)\n",
        "\n",
        "print(embedding_matrix)"
      ]
    },
    {
      "cell_type": "code",
      "source": [],
      "metadata": {
        "id": "5mW4rTkBNlR4"
      },
      "execution_count": null,
      "outputs": []
    }
  ]
}